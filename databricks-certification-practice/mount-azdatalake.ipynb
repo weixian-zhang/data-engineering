{
 "cells": [
  {
   "cell_type": "code",
   "execution_count": 0,
   "metadata": {
    "application/vnd.databricks.v1+cell": {
     "cellMetadata": {},
     "inputWidgets": {},
     "nuid": "6b70a7b5-02dc-4631-9297-fcd26b36a1a5",
     "showTitle": false,
     "title": ""
    }
   },
   "outputs": [],
   "source": []
  },
  {
   "cell_type": "code",
   "execution_count": 0,
   "metadata": {
    "application/vnd.databricks.v1+cell": {
     "cellMetadata": {
      "byteLimit": 2048000,
      "rowLimit": 10000
     },
     "inputWidgets": {},
     "nuid": "20be60b4-bfc4-44f0-a399-fc8e2773d594",
     "showTitle": false,
     "title": ""
    }
   },
   "outputs": [
    {
     "output_type": "stream",
     "name": "stdout",
     "output_type": "stream",
     "text": [
      "Error: InvalidConfigurationError: You haven't configured the CLI yet! Please configure by entering `/databricks/python3/bin/databricks configure`\n"
     ]
    }
   ],
   "source": [
    "%sh\n",
    "\n",
    "echo \"host = <your host>\" >> ~/.databrickscfg\n",
    "\n",
    "\n"
   ]
  },
  {
   "cell_type": "code",
   "execution_count": 0,
   "metadata": {
    "application/vnd.databricks.v1+cell": {
     "cellMetadata": {
      "byteLimit": 2048000,
      "rowLimit": 10000
     },
     "inputWidgets": {},
     "nuid": "048ec3dc-a3a3-4d58-867e-73b2e8074aa1",
     "showTitle": false,
     "title": ""
    }
   },
   "outputs": [
    {
     "output_type": "stream",
     "name": "stdout",
     "output_type": "stream",
     "text": [
      "[REDACTED]\n[REDACTED]\n"
     ]
    }
   ],
   "source": [
    "clientId = dbutils.secrets.get(scope='all', key='clientId')\n",
    "clientSecret = dbutils.secrets.get(scope='all', key='clientSecret')\n",
    "storageKey = dbutils.secrets.get(scope='all', key='strgAIMLKey')\n",
    "\n",
    "tenantId = '16b3c013-d300-468d-ac64-7eda0820b6d3'\n",
    "\n",
    "entraOAuthTokenUrl = f'https://login.microsoftonline.com/{tenantId}/oauth2/token\"'\n",
    "mountPoint = \"/mnt/data/adls\"\n",
    "containerName = 'databricks'\n",
    "storageName = 'strgazdl'\n",
    "abfss = f\"abfss://{containerName}@{storageName}.dfs.core.windows.net/\"\n",
    "\n",
    "adlsMountedDataPath = 'dbfs:/mnt/data/adls/data'\n",
    "\n",
    "print(storageKey)\n",
    "print(clientSecret)"
   ]
  },
  {
   "cell_type": "code",
   "execution_count": 0,
   "metadata": {
    "application/vnd.databricks.v1+cell": {
     "cellMetadata": {
      "byteLimit": 2048000,
      "rowLimit": 10000
     },
     "inputWidgets": {},
     "nuid": "d150aa8a-f4b7-4d71-bffe-06d7e56fe9e9",
     "showTitle": false,
     "title": ""
    }
   },
   "outputs": [
    {
     "output_type": "execute_result",
     "data": {
      "text/plain": [
       "True"
      ]
     },
     "execution_count": 20,
     "metadata": {},
     "output_type": "execute_result"
    }
   ],
   "source": [
    "configs = {\"fs.azure.account.auth.type\": \"OAuth\",\n",
    "          \"fs.azure.account.oauth.provider.type\": \"org.apache.hadoop.fs.azurebfs.oauth2.ClientCredsTokenProvider\",\n",
    "          \"fs.azure.account.oauth2.client.id\": clientId,\n",
    "          \"fs.azure.account.oauth2.client.secret\": clientSecret,\n",
    "          \"fs.azure.account.oauth2.client.endpoint\": entraOAuthTokenUrl}\n",
    "\n",
    "# mount using ABFS using service principle, not successful, 401 error\n",
    "# if not any(mount == mountPoint for mount in dbutils.fs.mounts()):\n",
    "#   dbutils.fs.mount(\n",
    "#     source = abfss,\n",
    "#     mount_point = mountPoint,\n",
    "#     extra_configs = configs)\n",
    "\n",
    "\n",
    "# mount using storage using storage key, successful\n",
    "# https://learn.microsoft.com/en-us/azure/databricks/dbfs/mounts#how-does-azure-databricks-mount-cloud-object-storage\n",
    "dbutils.fs.mount(\n",
    "  source = f\"wasbs://{containerName}@{storageName}.blob.core.windows.net\",\n",
    "  mount_point = mountPoint,\n",
    "  extra_configs = {f\"fs.azure.account.key.{storageName}.blob.core.windows.net\": storageKey})\n",
    "\n",
    "\n"
   ]
  },
  {
   "cell_type": "code",
   "execution_count": 0,
   "metadata": {
    "application/vnd.databricks.v1+cell": {
     "cellMetadata": {
      "byteLimit": 2048000,
      "rowLimit": 10000
     },
     "inputWidgets": {},
     "nuid": "be1b3dc9-6469-4d9b-b132-4c244d5fc337",
     "showTitle": false,
     "title": ""
    }
   },
   "outputs": [
    {
     "output_type": "display_data",
     "data": {
      "text/html": [
       "<style scoped>\n",
       "  .table-result-container {\n",
       "    max-height: 300px;\n",
       "    overflow: auto;\n",
       "  }\n",
       "  table, th, td {\n",
       "    border: 1px solid black;\n",
       "    border-collapse: collapse;\n",
       "  }\n",
       "  th, td {\n",
       "    padding: 5px;\n",
       "  }\n",
       "  th {\n",
       "    text-align: left;\n",
       "  }\n",
       "</style><div class='table-result-container'><table class='table-result'><thead style='background-color: white'><tr><th>path</th><th>name</th><th>size</th><th>modificationTime</th></tr></thead><tbody><tr><td>dbfs:/mnt/data/adls/data/address.parquet</td><td>address.parquet</td><td>622007</td><td>1711693940000</td></tr><tr><td>dbfs:/mnt/data/adls/data/customer.json</td><td>customer.json</td><td>40315809</td><td>1711693942000</td></tr><tr><td>dbfs:/mnt/data/adls/data/web_sales.csv</td><td>web_sales.csv</td><td>146169257</td><td>1711693945000</td></tr></tbody></table></div>"
      ]
     },
     "metadata": {
      "application/vnd.databricks.v1+output": {
       "addedWidgets": {},
       "aggData": [],
       "aggError": "",
       "aggOverflow": false,
       "aggSchema": [],
       "aggSeriesLimitReached": false,
       "aggType": "",
       "arguments": {},
       "columnCustomDisplayInfos": {},
       "data": [
        [
         "dbfs:/mnt/data/adls/data/address.parquet",
         "address.parquet",
         622007,
         1711693940000
        ],
        [
         "dbfs:/mnt/data/adls/data/customer.json",
         "customer.json",
         40315809,
         1711693942000
        ],
        [
         "dbfs:/mnt/data/adls/data/web_sales.csv",
         "web_sales.csv",
         146169257,
         1711693945000
        ]
       ],
       "datasetInfos": [],
       "dbfsResultPath": null,
       "isJsonSchema": true,
       "metadata": {
        "isDbfsCommandResult": false
       },
       "overflow": false,
       "plotOptions": {
        "customPlotOptions": {},
        "displayType": "table",
        "pivotAggregation": null,
        "pivotColumns": null,
        "xColumns": null,
        "yColumns": null
       },
       "removedWidgets": [],
       "schema": [
        {
         "metadata": "{}",
         "name": "path",
         "type": "\"string\""
        },
        {
         "metadata": "{}",
         "name": "name",
         "type": "\"string\""
        },
        {
         "metadata": "{}",
         "name": "size",
         "type": "\"long\""
        },
        {
         "metadata": "{}",
         "name": "modificationTime",
         "type": "\"long\""
        }
       ],
       "type": "table"
      }
     },
     "output_type": "display_data"
    }
   ],
   "source": [
    "%fs ls dbfs:/mnt/data/adls/data"
   ]
  },
  {
   "cell_type": "code",
   "execution_count": 0,
   "metadata": {
    "application/vnd.databricks.v1+cell": {
     "cellMetadata": {},
     "inputWidgets": {},
     "nuid": "93954eb0-5c18-43ec-8e1f-8bbd67c0c204",
     "showTitle": false,
     "title": ""
    }
   },
   "outputs": [],
   "source": []
  },
  {
   "cell_type": "code",
   "execution_count": 0,
   "metadata": {
    "application/vnd.databricks.v1+cell": {
     "cellMetadata": {
      "byteLimit": 2048000,
      "rowLimit": 10000
     },
     "inputWidgets": {},
     "nuid": "f1a0cc2a-ea08-4ba4-8ea6-81250cbc61b5",
     "showTitle": false,
     "title": ""
    }
   },
   "outputs": [],
   "source": [
    "# Generate SQL query\n",
    "sql_query = \"\"\"\n",
    "SELECT country, state, city from address  Limit 10\n",
    "\"\"\"\n",
    "\n",
    "# Execute SQL query\n",
    "result_df = spark.sql(sql_query)\n",
    "\n",
    "# Display result dataframe\n",
    "display(result_df)"
   ]
  },
  {
   "cell_type": "code",
   "execution_count": 0,
   "metadata": {
    "application/vnd.databricks.v1+cell": {
     "cellMetadata": {},
     "inputWidgets": {},
     "nuid": "435a37e0-adc8-4c4d-b81d-a81881081760",
     "showTitle": false,
     "title": ""
    }
   },
   "outputs": [],
   "source": []
  }
 ],
 "metadata": {
  "application/vnd.databricks.v1+notebook": {
   "dashboards": [],
   "language": "python",
   "notebookMetadata": {
    "mostRecentlyExecutedCommandWithImplicitDF": {
     "commandId": 3349792799079556,
     "dataframes": [
      "_sqldf"
     ]
    },
    "pythonIndentUnit": 4
   },
   "notebookName": "mount-azdatalake",
   "widgets": {}
  }
 },
 "nbformat": 4,
 "nbformat_minor": 0
}
